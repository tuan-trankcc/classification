{
 "cells": [
  {
   "cell_type": "markdown",
   "metadata": {},
   "source": [
    "# Classification"
   ]
  },
  {
   "cell_type": "markdown",
   "metadata": {},
   "source": [
    "#### This tutorial will use MNIST dataset that has 70,000 images of handwritten digits.<br/>(Each image is labeled a digit, which has 784=(28x28 pixels) features)"
   ]
  },
  {
   "cell_type": "markdown",
   "metadata": {},
   "source": [
    "#### First, check scikit-learn version"
   ]
  },
  {
   "cell_type": "code",
   "execution_count": 1,
   "metadata": {},
   "outputs": [
    {
     "data": {
      "text/plain": [
       "'0.21.3'"
      ]
     },
     "execution_count": 1,
     "metadata": {},
     "output_type": "execute_result"
    }
   ],
   "source": [
    "import sklearn\n",
    "sklearn.__version__  # Ex. old version = '0.19.1'"
   ]
  },
  {
   "cell_type": "markdown",
   "metadata": {},
   "source": [
    "#### Since we want to use scikit-learn version 0.2 or later, if it is older, we may need to install it something likes below."
   ]
  },
  {
   "cell_type": "raw",
   "metadata": {},
   "source": [
    ">>> conda update conda\n",
    ">>> conda install scikit-learn=0.21.3"
   ]
  },
  {
   "cell_type": "markdown",
   "metadata": {},
   "source": [
    "#### To know where is \"get_data_home\" folder"
   ]
  },
  {
   "cell_type": "code",
   "execution_count": 2,
   "metadata": {},
   "outputs": [],
   "source": [
    "from sklearn.datasets import get_data_home\n",
    "# print(get_data_home()) # Ex. C:\\Users\\...\\scikit_learn_data"
   ]
  },
  {
   "cell_type": "markdown",
   "metadata": {},
   "source": [
    "## PART 1: To get and explore MNIST datasets"
   ]
  },
  {
   "cell_type": "code",
   "execution_count": 3,
   "metadata": {},
   "outputs": [],
   "source": [
    "import matplotlib as mpl\n",
    "import matplotlib.pyplot as plt\n",
    "import numpy as np"
   ]
  },
  {
   "cell_type": "markdown",
   "metadata": {},
   "source": [
    "#### To get MNIST datasets"
   ]
  },
  {
   "cell_type": "code",
   "execution_count": 4,
   "metadata": {},
   "outputs": [],
   "source": [
    "from sklearn.datasets import fetch_openml # fetch_openml is used from scikit-learn 0.2 or later.\n",
    "mnist = fetch_openml('mnist_784', version=1)"
   ]
  },
  {
   "cell_type": "markdown",
   "metadata": {},
   "source": [
    "#### To know the mnist data type and structure"
   ]
  },
  {
   "cell_type": "code",
   "execution_count": 5,
   "metadata": {},
   "outputs": [
    {
     "data": {
      "text/plain": [
       "sklearn.utils.Bunch"
      ]
     },
     "execution_count": 5,
     "metadata": {},
     "output_type": "execute_result"
    }
   ],
   "source": [
    "type(mnist) # Bunch objects are just useful for loading the internal sample datasets at scikit-learn"
   ]
  },
  {
   "cell_type": "code",
   "execution_count": 6,
   "metadata": {},
   "outputs": [
    {
     "data": {
      "text/plain": [
       "dict_keys(['data', 'target', 'feature_names', 'DESCR', 'details', 'categories', 'url'])"
      ]
     },
     "execution_count": 6,
     "metadata": {},
     "output_type": "execute_result"
    }
   ],
   "source": [
    "mnist.keys()"
   ]
  },
  {
   "cell_type": "markdown",
   "metadata": {},
   "source": [
    "###### The 'data' key contains an arrary: one rows per instance and one column per feature.<br/>The 'target' contains an array with labels"
   ]
  },
  {
   "cell_type": "code",
   "execution_count": 7,
   "metadata": {},
   "outputs": [
    {
     "name": "stdout",
     "output_type": "stream",
     "text": [
      "data =\n",
      " [[0. 0. 0. ... 0. 0. 0.]\n",
      " [0. 0. 0. ... 0. 0. 0.]\n",
      " [0. 0. 0. ... 0. 0. 0.]\n",
      " ...\n",
      " [0. 0. 0. ... 0. 0. 0.]\n",
      " [0. 0. 0. ... 0. 0. 0.]\n",
      " [0. 0. 0. ... 0. 0. 0.]], \n",
      "\n",
      " shape = (70000, 784)\n"
     ]
    }
   ],
   "source": [
    "print(\"data =\\n {}, \\n\\n shape = {}\".format(mnist['data'], mnist['data'].shape))"
   ]
  },
  {
   "cell_type": "code",
   "execution_count": 8,
   "metadata": {},
   "outputs": [
    {
     "name": "stdout",
     "output_type": "stream",
     "text": [
      "target = ['5' '0' '4' ... '4' '5' '6'], \n",
      "shape = (70000,)\n"
     ]
    }
   ],
   "source": [
    "print(\"target = {}, \\nshape = {}\".format(mnist['target'], mnist['target'].shape))"
   ]
  },
  {
   "cell_type": "code",
   "execution_count": 9,
   "metadata": {
    "code_folding": []
   },
   "outputs": [],
   "source": [
    "# print(\"feature_names = {}\".format(mnist['feature_names'])) # outout= ['pixel1',...'pixel784']\n",
    "# print(\"DESCR = {}\".format(mnist['DESCR']))  # To describe the dataset\n",
    "# print(\"details = {}\".format(mnist['details']))\n",
    "# print(\"categories = {}\".format(mnist['categories']))\n",
    "# print(\"url = {}\".format(mnist['url']))  # url = https://www.openml.org/d/554"
   ]
  },
  {
   "cell_type": "markdown",
   "metadata": {},
   "source": [
    "##### Each image is labeled a digit, which has 784=(28x28 pixels) features.<br/> And each feature represents pixel's intensity (from 0 (white) to 255 (black)).  NOTE: MNIST datasets has NOT yet sorted by target. "
   ]
  },
  {
   "cell_type": "markdown",
   "metadata": {},
   "source": [
    "#### We will try to show 1 image as an example, as below."
   ]
  },
  {
   "cell_type": "code",
   "execution_count": 10,
   "metadata": {},
   "outputs": [
    {
     "data": {
      "image/png": "[encoded data removed]",
      "text/plain": [
       "<Figure size 432x288 with 1 Axes>"
      ]
     },
     "metadata": {},
     "output_type": "display_data"
    }
   ],
   "source": [
    "def plot_a_digit(a_digit_data):\n",
    "    a_digit_img = a_digit_data.reshape(28, 28) # reshape 784 --> 28x28\n",
    "    plt.imshow(a_digit_img, cmap=\"Blues\", interpolation='nearest')\n",
    "    plt.axis('off')\n",
    "\n",
    "_index = 123  # Just one example to choose an arbitrary digit of X\n",
    "a_digit_data = mnist['data'][_index] \n",
    "plot_a_digit(a_digit_data=a_digit_data)    "
   ]
  },
  {
   "cell_type": "markdown",
   "metadata": {},
   "source": [
    "##### The above image looks like 7. Let's check its target value"
   ]
  },
  {
   "cell_type": "code",
   "execution_count": 11,
   "metadata": {},
   "outputs": [
    {
     "name": "stdout",
     "output_type": "stream",
     "text": [
      "target at index=123 is 7\n"
     ]
    }
   ],
   "source": [
    "print('target at index={} is {}'.format(_index, mnist['target'][_index]))"
   ]
  },
  {
   "cell_type": "markdown",
   "metadata": {},
   "source": [
    "## PART 2: Binary Classifier"
   ]
  },
  {
   "cell_type": "raw",
   "metadata": {},
   "source": [
    "Let's try to identify one digit, ex. the number 7\n",
    "Meaning that to indetify an input number is 7 or NOT 7 (0, 1, 2, 3, 4, 5, 6, 8, 9)"
   ]
  },
  {
   "cell_type": "markdown",
   "metadata": {},
   "source": [
    "#### Split in training set and test set"
   ]
  },
  {
   "cell_type": "code",
   "execution_count": 12,
   "metadata": {},
   "outputs": [],
   "source": [
    "X, y = mnist['data'], mnist['target']"
   ]
  },
  {
   "cell_type": "code",
   "execution_count": 13,
   "metadata": {},
   "outputs": [],
   "source": [
    "# Note: type(y[0]) is str --> so we need to change it to integer\n",
    "y = y.astype(np.uint8)"
   ]
  },
  {
   "cell_type": "code",
   "execution_count": 14,
   "metadata": {},
   "outputs": [],
   "source": [
    "# Training set: 60000 images, test set: 10000 images\n",
    "X_train, X_test, y_train, y_test = X[:60000], X[60000:], y[:60000], y[60000:]"
   ]
  },
  {
   "cell_type": "code",
   "execution_count": 15,
   "metadata": {},
   "outputs": [],
   "source": [
    "y_train_7 = (y_train == 7)  # True for all 7 or False otherewise\n",
    "y_test_7 = (y_test == 7)"
   ]
  },
  {
   "cell_type": "code",
   "execution_count": 16,
   "metadata": {},
   "outputs": [
    {
     "name": "stdout",
     "output_type": "stream",
     "text": [
      "False True False\n"
     ]
    }
   ],
   "source": [
    "# Ex.\n",
    "print(y_train_7[0], y_train_7[123], y_train_7[1234])"
   ]
  },
  {
   "cell_type": "markdown",
   "metadata": {},
   "source": [
    "#### Using SGD (Stochastic Gradient Descent) classifer"
   ]
  },
  {
   "cell_type": "raw",
   "metadata": {},
   "source": [
    "SGD: can handle a large dataset because it deals with training instances independently one at a time.\n",
    "     good for online learning.              "
   ]
  },
  {
   "cell_type": "code",
   "execution_count": 17,
   "metadata": {},
   "outputs": [
    {
     "data": {
      "text/plain": [
       "SGDClassifier(alpha=0.0001, average=False, class_weight=None,\n",
       "              early_stopping=False, epsilon=0.1, eta0=0.0, fit_intercept=True,\n",
       "              l1_ratio=0.15, learning_rate='optimal', loss='hinge',\n",
       "              max_iter=1000, n_iter_no_change=5, n_jobs=None, penalty='l2',\n",
       "              power_t=0.5, random_state=42, shuffle=True, tol=0.001,\n",
       "              validation_fraction=0.1, verbose=0, warm_start=False)"
      ]
     },
     "execution_count": 17,
     "metadata": {},
     "output_type": "execute_result"
    }
   ],
   "source": [
    "from sklearn.linear_model import SGDClassifier\n",
    "sgd_clf = SGDClassifier(random_state=42)\n",
    "sgd_clf.fit(X_train, \n",
    "            y_train_7)"
   ]
  },
  {
   "cell_type": "code",
   "execution_count": 18,
   "metadata": {},
   "outputs": [
    {
     "data": {
      "text/plain": [
       "array([ True])"
      ]
     },
     "execution_count": 18,
     "metadata": {},
     "output_type": "execute_result"
    }
   ],
   "source": [
    "# predict number 7\n",
    "_index = 123  # refer to above code. write here for clear\n",
    "a_digit_data = mnist['data'][_index] # this number is 7 as we demonstrate above.\n",
    "sgd_clf.predict([a_digit_data]) # --> True. Meaning that it predicts this number is 7."
   ]
  },
  {
   "cell_type": "markdown",
   "metadata": {},
   "source": [
    "### Methods to measure performance: (1) Accuracy score (from cross-validation)"
   ]
  },
  {
   "cell_type": "raw",
   "metadata": {},
   "source": [
    "- K-fold cross-validation: ex. K-fold=10\n",
    "Randomly split training set to 10 subsets (folds) and then train an evaluate the model 10 times, in which, each time, picking  9 folds to train and 1 fold to test and so on.\n",
    "- Note that we may need to use StratifiedKFold to deal with stratified sampling, which takes the reprentative ratio of each class into account."
   ]
  },
  {
   "cell_type": "code",
   "execution_count": 19,
   "metadata": {},
   "outputs": [
    {
     "data": {
      "text/plain": [
       "array([0.98033333, 0.9825    , 0.97333333, 0.97725   , 0.97633333])"
      ]
     },
     "execution_count": 19,
     "metadata": {},
     "output_type": "execute_result"
    }
   ],
   "source": [
    "from sklearn.model_selection import cross_val_score\n",
    "cross_val_score(sgd_clf, \n",
    "                X_train, \n",
    "                y_train_7, \n",
    "                cv=5,  # K-fold = 5 \n",
    "                scoring='accuracy')"
   ]
  },
  {
   "cell_type": "raw",
   "metadata": {},
   "source": [
    "Note that we have 10 digit (0,1,2,3,4,5,6,7,8,9) and here we predict a digit is 7 or not. \n",
    "If we pick any digit and predict that it is NOT 7, we are about 90% correct.\n",
    "Therefore, \"accuracy\" is NOT a preferred metric for measuring performance in classifier, \n",
    "especially in the data where some classes are much more frequent that the other."
   ]
  },
  {
   "cell_type": "markdown",
   "metadata": {},
   "source": [
    "### Methods to measure performance: (2) Confusion matrix"
   ]
  },
  {
   "cell_type": "code",
   "execution_count": 20,
   "metadata": {},
   "outputs": [],
   "source": [
    "from sklearn.model_selection import cross_val_predict\n",
    "y_train_prediction = cross_val_predict(\n",
    "                         sgd_clf, \n",
    "                         X_train, \n",
    "                         y_train_7, \n",
    "                         cv=5)  # K-fold=5, return prediction made on each test fold "
   ]
  },
  {
   "cell_type": "code",
   "execution_count": 21,
   "metadata": {},
   "outputs": [
    {
     "data": {
      "text/plain": [
       "array([[53180,   555],\n",
       "       [  768,  5497]], dtype=int64)"
      ]
     },
     "execution_count": 21,
     "metadata": {},
     "output_type": "execute_result"
    }
   ],
   "source": [
    "from sklearn.metrics import confusion_matrix\n",
    "confusion_matrix(y_true=y_train_7,\n",
    "                 y_pred=y_train_prediction)"
   ]
  },
  {
   "cell_type": "raw",
   "metadata": {},
   "source": [
    "                      Predict Negative   Predict Positve   \n",
    "                           NOT 7                7                       \n",
    "Actual Negative: NOT 7     53180 (TN)        555 (FP)       \n",
    "Actual Postive :  7         768 (FN)         5497 (TP)\n",
    "TP: True Positve\n",
    "TN: True Negative\n",
    "FP: False Positive\n",
    "FN: False Negative"
   ]
  },
  {
   "cell_type": "markdown",
   "metadata": {},
   "source": [
    "### Define:\n",
    "> * ### Precision = TP/(TP + FP)\n",
    "* ### Recall (a.k.a Sensitivity or True Positive Rate) = TP/(TP + FN)\n",
    "* ### F1 score = 2/(1/Precision + 1/Recall) (it is high when precision as well as recall are high)\n",
    "  <br>But there is a trade-off between precision and recall.\n",
    "* ### False Postive Rate = 1 - Specificity = 1 - (TN/(TN+FP))\n",
    ">"
   ]
  },
  {
   "cell_type": "markdown",
   "metadata": {},
   "source": [
    "#### Precision, Recall and f1_score"
   ]
  },
  {
   "cell_type": "code",
   "execution_count": 22,
   "metadata": {},
   "outputs": [
    {
     "name": "stdout",
     "output_type": "stream",
     "text": [
      "precision=0.9082947785855915, recall=0.877414205905826\n"
     ]
    }
   ],
   "source": [
    "# We can calculate Precision and Recall using sklearn\n",
    "from sklearn.metrics import precision_score\n",
    "from sklearn.metrics import recall_score\n",
    "precision = precision_score(y_train_7,\n",
    "                            y_train_prediction)  # correct predict digit 7\n",
    "recall = recall_score(y_train_7,\n",
    "                      y_train_prediction)  # ability to detect digit 7\n",
    "print('precision={}, recall={}'.format(precision, recall))"
   ]
  },
  {
   "cell_type": "code",
   "execution_count": 23,
   "metadata": {},
   "outputs": [
    {
     "data": {
      "text/plain": [
       "0.8925874807177073"
      ]
     },
     "execution_count": 23,
     "metadata": {},
     "output_type": "execute_result"
    }
   ],
   "source": [
    "from sklearn.metrics import f1_score\n",
    "f1_score(y_train_7,\n",
    "         y_train_prediction)"
   ]
  },
  {
   "cell_type": "code",
   "execution_count": 24,
   "metadata": {},
   "outputs": [],
   "source": [
    "# method=\"decision_function\" is to return a score for each instance.\n",
    "y_scores = cross_val_predict(sgd_clf, \n",
    "                             X_train, \n",
    "                             y_train_7, \n",
    "                             cv=5,  # K-fold=5,\n",
    "                             method=\"decision_function\")"
   ]
  },
  {
   "cell_type": "code",
   "execution_count": 25,
   "metadata": {},
   "outputs": [],
   "source": [
    "# Get precision, recalls and thresholds\n",
    "from sklearn.metrics import precision_recall_curve\n",
    "precision, recalls, thresholds = precision_recall_curve(y_train_7,\n",
    "                                                        y_scores)"
   ]
  },
  {
   "cell_type": "code",
   "execution_count": 26,
   "metadata": {},
   "outputs": [
    {
     "data": {
      "text/plain": [
       "60000"
      ]
     },
     "execution_count": 26,
     "metadata": {},
     "output_type": "execute_result"
    }
   ],
   "source": [
    "len(y_scores)"
   ]
  },
  {
   "cell_type": "code",
   "execution_count": 27,
   "metadata": {},
   "outputs": [
    {
     "data": {
      "image/png": "[encoded data removed]",
      "text/plain": [
       "<Figure size 432x288 with 1 Axes>"
      ]
     },
     "metadata": {},
     "output_type": "display_data"
    }
   ],
   "source": [
    "def plot_precision_recalls_vs_thresholds(precision, recalls, thresholds):\n",
    "    plt.plot(thresholds, precision[:-1], 'r--', label='Precision')\n",
    "    plt.plot(thresholds, recalls[:-1], 'b-', label='Recall')\n",
    "    plt.xlabel('Threshold')\n",
    "    plt.legend(loc='center right')\n",
    "    plt.xlim([-50000, 50000])\n",
    "plot_precision_recalls_vs_thresholds(precision, recalls, thresholds)\n",
    "plt.show()    "
   ]
  },
  {
   "cell_type": "code",
   "execution_count": 28,
   "metadata": {},
   "outputs": [
    {
     "data": {
      "image/png": "[encoded data removed]",
      "text/plain": [
       "<Figure size 432x288 with 1 Axes>"
      ]
     },
     "metadata": {},
     "output_type": "display_data"
    }
   ],
   "source": [
    "def plot_precision_vs_recalls(precision, recalls):\n",
    "    plt.plot(recalls[:-1], precision[:-1], 'g-', label='Precison vs. Recall')\n",
    "    plt.xlabel('Recall')\n",
    "    plt.ylabel('Precision')\n",
    "    plt.legend(loc='center left')\n",
    "    # plt.xlim([-50000, 50000])\n",
    "plot_precision_vs_recalls(precision, recalls)\n",
    "plt.show()  "
   ]
  },
  {
   "cell_type": "markdown",
   "metadata": {},
   "source": [
    "#### ROC (Receiving Operating Characteristic) Curve and AUC"
   ]
  },
  {
   "cell_type": "code",
   "execution_count": 29,
   "metadata": {},
   "outputs": [],
   "source": [
    "from sklearn.metrics import roc_curve"
   ]
  },
  {
   "cell_type": "code",
   "execution_count": 30,
   "metadata": {},
   "outputs": [],
   "source": [
    "fpr, tpr, thresholds = roc_curve(y_train_7, \n",
    "                                 y_scores)"
   ]
  },
  {
   "cell_type": "code",
   "execution_count": 31,
   "metadata": {},
   "outputs": [
    {
     "data": {
      "image/png": "[encoded data removed]",
      "text/plain": [
       "<Figure size 432x288 with 1 Axes>"
      ]
     },
     "metadata": {},
     "output_type": "display_data"
    }
   ],
   "source": [
    "def plot_roc(fpr, tpr):\n",
    "    plt.plot(fpr, tpr, linewidth=2, label=\"SGD\")\n",
    "    plt.plot([0, 1], [0, 1], 'r--') # plot y=x (1:1 line)\n",
    "    plt.xlabel('False Positive Rate (=1-specificity)')\n",
    "    plt.ylabel('True Positive Rate (Recall)')\n",
    "    plt.legend(loc='lower right')\n",
    "plot_roc(fpr, tpr)  \n",
    "plt.show()"
   ]
  },
  {
   "cell_type": "raw",
   "metadata": {},
   "source": [
    "The red line (y=x) in the above figure represent purely random classifier."
   ]
  },
  {
   "cell_type": "code",
   "execution_count": 32,
   "metadata": {},
   "outputs": [
    {
     "data": {
      "text/plain": [
       "0.9880473379196527"
      ]
     },
     "execution_count": 32,
     "metadata": {},
     "output_type": "execute_result"
    }
   ],
   "source": [
    "from sklearn.metrics import roc_auc_score\n",
    "roc_auc_score(y_train_7, y_scores)"
   ]
  },
  {
   "cell_type": "markdown",
   "metadata": {},
   "source": [
    "#### ROC comparision: SGCClassifier vs. RandomForestClassifier"
   ]
  },
  {
   "cell_type": "code",
   "execution_count": 33,
   "metadata": {},
   "outputs": [
    {
     "name": "stderr",
     "output_type": "stream",
     "text": [
      "C:\\ProgramData\\Anaconda3\\lib\\site-packages\\sklearn\\ensemble\\forest.py:245: FutureWarning: The default value of n_estimators will change from 10 in version 0.20 to 100 in 0.22.\n",
      "  \"10 in version 0.20 to 100 in 0.22.\", FutureWarning)\n",
      "C:\\ProgramData\\Anaconda3\\lib\\site-packages\\sklearn\\ensemble\\forest.py:245: FutureWarning: The default value of n_estimators will change from 10 in version 0.20 to 100 in 0.22.\n",
      "  \"10 in version 0.20 to 100 in 0.22.\", FutureWarning)\n",
      "C:\\ProgramData\\Anaconda3\\lib\\site-packages\\sklearn\\ensemble\\forest.py:245: FutureWarning: The default value of n_estimators will change from 10 in version 0.20 to 100 in 0.22.\n",
      "  \"10 in version 0.20 to 100 in 0.22.\", FutureWarning)\n",
      "C:\\ProgramData\\Anaconda3\\lib\\site-packages\\sklearn\\ensemble\\forest.py:245: FutureWarning: The default value of n_estimators will change from 10 in version 0.20 to 100 in 0.22.\n",
      "  \"10 in version 0.20 to 100 in 0.22.\", FutureWarning)\n",
      "C:\\ProgramData\\Anaconda3\\lib\\site-packages\\sklearn\\ensemble\\forest.py:245: FutureWarning: The default value of n_estimators will change from 10 in version 0.20 to 100 in 0.22.\n",
      "  \"10 in version 0.20 to 100 in 0.22.\", FutureWarning)\n"
     ]
    }
   ],
   "source": [
    "from sklearn.ensemble import RandomForestClassifier\n",
    "rf_cls = RandomForestClassifier(random_state=42)\n",
    "y_prob_rf = cross_val_predict(rf_cls, \n",
    "                              X_train, \n",
    "                              y_train_7, \n",
    "                              cv=5, \n",
    "                              method='predict_proba')"
   ]
  },
  {
   "cell_type": "code",
   "execution_count": 34,
   "metadata": {},
   "outputs": [],
   "source": [
    "y_scores_rf = y_prob_rf[:, 1]  # score = probability of postive class\n",
    "fpr_rf, tpr_rf, thresholds_rf = roc_curve(y_train_7, \n",
    "                                          y_scores_rf)"
   ]
  },
  {
   "cell_type": "code",
   "execution_count": 35,
   "metadata": {},
   "outputs": [
    {
     "data": {
      "image/png": "[encoded data removed]",
      "text/plain": [
       "<Figure size 432x288 with 1 Axes>"
      ]
     },
     "metadata": {},
     "output_type": "display_data"
    }
   ],
   "source": [
    "plot_roc(fpr, tpr)  # SGDCclassifier\n",
    "plt.plot(fpr_rf,  # RandomForestClassifier\n",
    "         tpr_rf, \n",
    "         'g--', \n",
    "         linewidth=2, \n",
    "         label='RF')\n",
    "plt.legend(loc='lower right')\n",
    "plt.show()"
   ]
  },
  {
   "cell_type": "code",
   "execution_count": 36,
   "metadata": {},
   "outputs": [
    {
     "name": "stdout",
     "output_type": "stream",
     "text": [
      "auc_sgd=0.9880473379196527, auc_rf=0.9945192967973913\n"
     ]
    }
   ],
   "source": [
    "from sklearn.metrics import roc_auc_score\n",
    "auc_sgd = roc_auc_score(y_train_7, y_scores)\n",
    "auc_rf = roc_auc_score(y_train_7, y_scores_rf)\n",
    "print('auc_sgd={}, auc_rf={}'.format(auc_sgd, auc_rf))"
   ]
  },
  {
   "cell_type": "markdown",
   "metadata": {},
   "source": [
    "## PART 3: Multiclass Classifier"
   ]
  },
  {
   "cell_type": "markdown",
   "metadata": {},
   "source": [
    "> * ### Multiclass classification using multiple binary classifier\n",
    "  - #### One-versus-One (OvO)\n",
    "    Ex. N=10 classess: ten digit (0, 1, 2, 3, 4, 5, 6, 7, 8, 9)  \n",
    "    Making every pairs (ex. (0, 1), (0, 2),.., (1,2)....) --> Having Nx(N-1)/2 pairs.  \n",
    "    Then train a binary classifier for each pairs.  \n",
    "    If we want to classifiy an image --> Need to run the image through all pairs  \n",
    "    and see which class win the most duels.  \n",
    "    - Good for large dataset since each classifier only need to be trained on a part of trainin data.  \n",
    "    - Good for SVM and Linear classifier because they are strictly binary classifer.\n",
    "  - #### One-versus-All (OvA) (a.k.s. One-versus-the-rest)  \n",
    "    Ex. N=10 classess: ten digit (0, 1, 2, 3, 4, 5, 6, 7, 8, 9)  \n",
    "    Making set: (0, all others), (1, all others), ..., (9, all others) --> Having N set.  \n",
    "    Then train N classifiers.   \n",
    "    If we want to classifiy an image --> get decision score for each classifer  \n",
    "    --> select the class whose classifier output has highest score.  \n",
    "    - Random Forest and naive Bayes are able to handle multiple classes directly.  \n",
    "    - Note: sklearn detects if input is binary classification for multiple classfication,  \n",
    "      it will run One-versus-All under the hood.    "
   ]
  },
  {
   "cell_type": "code",
   "execution_count": 37,
   "metadata": {},
   "outputs": [
    {
     "data": {
      "text/plain": [
       "SGDClassifier(alpha=0.0001, average=False, class_weight=None,\n",
       "              early_stopping=False, epsilon=0.1, eta0=0.0, fit_intercept=True,\n",
       "              l1_ratio=0.15, learning_rate='optimal', loss='hinge',\n",
       "              max_iter=1000, n_iter_no_change=5, n_jobs=None, penalty='l2',\n",
       "              power_t=0.5, random_state=42, shuffle=True, tol=0.001,\n",
       "              validation_fraction=0.1, verbose=0, warm_start=False)"
      ]
     },
     "execution_count": 37,
     "metadata": {},
     "output_type": "execute_result"
    }
   ],
   "source": [
    "from sklearn.linear_model import SGDClassifier\n",
    "sgd_clf = SGDClassifier(random_state=42)  # sgd_clf is linear model\n",
    "sgd_clf.fit(X_train, \n",
    "            y_train  # y_train here having multiclass (0, 1, 2, 3,..,9)\n",
    "                     # sklearn will run One-versus-All under the hood\n",
    "           )"
   ]
  },
  {
   "cell_type": "code",
   "execution_count": 38,
   "metadata": {},
   "outputs": [
    {
     "data": {
      "image/png": "[encoded data removed]",
      "text/plain": [
       "<Figure size 432x288 with 1 Axes>"
      ]
     },
     "metadata": {},
     "output_type": "display_data"
    }
   ],
   "source": [
    "_index = 123  # Just one example to choose an arbitrary digit of X\n",
    "a_digit_data = mnist['data'][_index]  # a_digit_data is 7\n",
    "plot_a_digit(a_digit_data=a_digit_data)  "
   ]
  },
  {
   "cell_type": "code",
   "execution_count": 39,
   "metadata": {},
   "outputs": [
    {
     "data": {
      "text/plain": [
       "array([7], dtype=uint8)"
      ]
     },
     "execution_count": 39,
     "metadata": {},
     "output_type": "execute_result"
    }
   ],
   "source": [
    "sgd_clf.predict([a_digit_data ])  # It predicts 7 --> correctly"
   ]
  },
  {
   "cell_type": "code",
   "execution_count": 40,
   "metadata": {},
   "outputs": [
    {
     "name": "stdout",
     "output_type": "stream",
     "text": [
      "[[-18129.01527049 -37778.09721109 -16850.44009028  -9597.50980056\n",
      "  -25638.44551539 -15728.62076615 -44228.72492057   9644.84483261\n",
      "   -2365.02358162  -2025.73614231]]\n",
      "max at index =  7\n"
     ]
    }
   ],
   "source": [
    "# access to decision_function() to understand that sklearn have run 10 classication\n",
    "digit_scores = sgd_clf.decision_function([a_digit_data])\n",
    "print(digit_scores)  # having 10 scores and highest score is at 7 (in this case means 7 digit)\n",
    "print('max at index = ', np.argmax(digit_scores))"
   ]
  },
  {
   "cell_type": "code",
   "execution_count": 41,
   "metadata": {},
   "outputs": [
    {
     "data": {
      "text/plain": [
       "array([0, 1, 2, 3, 4, 5, 6, 7, 8, 9], dtype=uint8)"
      ]
     },
     "execution_count": 41,
     "metadata": {},
     "output_type": "execute_result"
    }
   ],
   "source": [
    "sgd_clf.classes_  # show list of target classes."
   ]
  },
  {
   "cell_type": "code",
   "execution_count": 42,
   "metadata": {},
   "outputs": [
    {
     "data": {
      "text/plain": [
       "array([0.8849646 , 0.87627062, 0.87341667, 0.86388264, 0.87062354])"
      ]
     },
     "execution_count": 42,
     "metadata": {},
     "output_type": "execute_result"
    }
   ],
   "source": [
    "# to get accuracy\n",
    "cross_val_score(sgd_clf, \n",
    "                X_train, \n",
    "                y_train, \n",
    "                cv=5, \n",
    "                scoring='accuracy')"
   ]
  },
  {
   "cell_type": "markdown",
   "metadata": {},
   "source": [
    "#### How to force sklearn use OvO or OvA"
   ]
  },
  {
   "cell_type": "code",
   "execution_count": 43,
   "metadata": {},
   "outputs": [
    {
     "name": "stdout",
     "output_type": "stream",
     "text": [
      "predict_digit =  [7]\n",
      "number of running classifier =  45\n"
     ]
    }
   ],
   "source": [
    "from sklearn.multiclass import OneVsOneClassifier\n",
    "ovo_clf = OneVsOneClassifier(SGDClassifier(random_state=42))\n",
    "ovo_clf.fit(X_train,\n",
    "            y_train)\n",
    "predict_digit = ovo_clf.predict([a_digit_data])\n",
    "print('predict_digit = ', predict_digit)\n",
    "print('number of running classifier = ', len(ovo_clf.estimators_))\n",
    "# we see 45 classifiers (= N(N-1)/2 = 10*9/2 = 45)"
   ]
  },
  {
   "cell_type": "markdown",
   "metadata": {},
   "source": [
    "#### Directly run multiclass classification using RF"
   ]
  },
  {
   "cell_type": "code",
   "execution_count": 44,
   "metadata": {},
   "outputs": [
    {
     "name": "stderr",
     "output_type": "stream",
     "text": [
      "C:\\ProgramData\\Anaconda3\\lib\\site-packages\\sklearn\\ensemble\\forest.py:245: FutureWarning: The default value of n_estimators will change from 10 in version 0.20 to 100 in 0.22.\n",
      "  \"10 in version 0.20 to 100 in 0.22.\", FutureWarning)\n"
     ]
    },
    {
     "data": {
      "text/plain": [
       "array([7], dtype=uint8)"
      ]
     },
     "execution_count": 44,
     "metadata": {},
     "output_type": "execute_result"
    }
   ],
   "source": [
    "from sklearn.ensemble import RandomForestClassifier\n",
    "rf_clf = RandomForestClassifier(random_state=42)\n",
    "rf_clf.fit(X_train, \n",
    "           y_train)\n",
    "rf_clf.predict([a_digit_data])"
   ]
  },
  {
   "cell_type": "code",
   "execution_count": 45,
   "metadata": {},
   "outputs": [
    {
     "data": {
      "text/plain": [
       "array([[0., 0., 0., 0., 0., 0., 0., 1., 0., 0.]])"
      ]
     },
     "execution_count": 45,
     "metadata": {},
     "output_type": "execute_result"
    }
   ],
   "source": [
    "# To see the probability of estimation a \"a_digit_data\" coressponding with each class.\n",
    "rf_clf.predict_proba([a_digit_data])\n",
    "# output: array([[0., 0., 0., 0., 0., 0., 0., 1., 0., 0.]])\n",
    "# means that 100% represents at class 7. Actually, 7 is quite easy to recognize.\n",
    "# if you choose other digit such as 5, it may not get 100% represent 5"
   ]
  },
  {
   "cell_type": "markdown",
   "metadata": {},
   "source": [
    "### Error Analysis using confusion matrix"
   ]
  },
  {
   "cell_type": "code",
   "execution_count": 46,
   "metadata": {},
   "outputs": [],
   "source": [
    "# Example for sgd_clf\n",
    "y_train_predict = cross_val_predict(sgd_clf, \n",
    "                                    X_train, \n",
    "                                    y_train, \n",
    "                                    cv=5)\n",
    "confusion_mx = confusion_matrix(y_train, \n",
    "                                y_train_predict)"
   ]
  },
  {
   "cell_type": "code",
   "execution_count": 64,
   "metadata": {},
   "outputs": [
    {
     "data": {
      "image/png": "[encoded data removed]",
      "text/plain": [
       "<Figure size 576x576 with 1 Axes>"
      ]
     },
     "metadata": {},
     "output_type": "display_data"
    }
   ],
   "source": [
    "matfig = plt.figure(figsize=(8, 8))\n",
    "plt.matshow(confusion_mx, \n",
    "            cmap=plt.cm.gray,\n",
    "            fignum=matfig.number)\n",
    "plt.show()"
   ]
  },
  {
   "cell_type": "code",
   "execution_count": 60,
   "metadata": {},
   "outputs": [],
   "source": [
    "row_sums = confusion_mx.sum(axis=1,  # axis=0: along column, axis=1: along row\n",
    "                            keepdims=True)\n",
    "norm_confusion_mx = confusion_mx/row_sums"
   ]
  },
  {
   "cell_type": "code",
   "execution_count": 67,
   "metadata": {},
   "outputs": [
    {
     "data": {
      "image/png": "[encoded data removed]",
      "text/plain": [
       "<Figure size 576x576 with 1 Axes>"
      ]
     },
     "metadata": {},
     "output_type": "display_data"
    }
   ],
   "source": [
    "# fill the norm_confusion_mxdiagonal with zeros so we can concentrate on error\n",
    "matfig = plt.figure(figsize=(8, 8))\n",
    "np.fill_diagonal(norm_confusion_mx, 0)\n",
    "plt.matshow(norm_confusion_mx, \n",
    "            cmap=plt.cm.gray,\n",
    "            fignum=matfig.number)\n",
    "plt.show()\n",
    "# Remind: The figure below: row is actual classess and column is predicted classess.\n",
    "# As can be seen very clearly, actuall \"8\" but miss classified as \"5\""
   ]
  },
  {
   "cell_type": "markdown",
   "metadata": {},
   "source": [
    "## PART 4: Multilabel Classification"
   ]
  },
  {
   "cell_type": "code",
   "execution_count": 70,
   "metadata": {},
   "outputs": [],
   "source": [
    "# We have consider each instance has been assigned to just 1 class.\n",
    "# For example: y_train = array([5, 0, 4, ..., 5, 6, 8], dtype=uint8) with len=60000\n",
    "\n",
    "# In this part, we consider multiple binary lables.\n",
    "# One example as below."
   ]
  },
  {
   "cell_type": "code",
   "execution_count": 71,
   "metadata": {},
   "outputs": [],
   "source": [
    "from sklearn.neighbors import KNeighborsClassifier\n",
    "\n",
    "y_train_large = (y_train >=7)  # arrary: True if value>7 else False\n",
    "y_train_even = (y_train % 2 == 0)  # array: True if value is even else False\n",
    "y_train_multilable = np.c_[y_train_large, y_train_even]\n",
    "# https://docs.scipy.org/doc/numpy/reference/generated/numpy.c_.html"
   ]
  },
  {
   "cell_type": "code",
   "execution_count": 74,
   "metadata": {},
   "outputs": [
    {
     "data": {
      "text/plain": [
       "array([[False, False],\n",
       "       [False,  True],\n",
       "       [False,  True],\n",
       "       ...,\n",
       "       [False, False],\n",
       "       [False,  True],\n",
       "       [ True,  True]])"
      ]
     },
     "execution_count": 74,
     "metadata": {},
     "output_type": "execute_result"
    }
   ],
   "source": [
    "y_train_multilable"
   ]
  },
  {
   "cell_type": "code",
   "execution_count": 75,
   "metadata": {},
   "outputs": [
    {
     "data": {
      "text/plain": [
       "KNeighborsClassifier(algorithm='auto', leaf_size=30, metric='minkowski',\n",
       "                     metric_params=None, n_jobs=None, n_neighbors=5, p=2,\n",
       "                     weights='uniform')"
      ]
     },
     "execution_count": 75,
     "metadata": {},
     "output_type": "execute_result"
    }
   ],
   "source": [
    "knn_clf = KNeighborsClassifier()\n",
    "knn_clf.fit(X_train, \n",
    "            y_train_multilable)"
   ]
  },
  {
   "cell_type": "code",
   "execution_count": 76,
   "metadata": {},
   "outputs": [
    {
     "data": {
      "text/plain": [
       "array([[ True, False]])"
      ]
     },
     "execution_count": 76,
     "metadata": {},
     "output_type": "execute_result"
    }
   ],
   "source": [
    "knn_clf.predict([a_digit_data])  # a_digit_data: refer to Part 3\n",
    "# Since a_digit_data is 7 so it is True that it in y_train_large \n",
    "# but it is False because it is NOT even (so NOT in y_train_even)"
   ]
  },
  {
   "cell_type": "code",
   "execution_count": 78,
   "metadata": {},
   "outputs": [],
   "source": [
    "import datetime\n",
    "start_time = datetime.datetime.now()\n",
    "print('start_time = ', start_time)\n",
    "y_train_knn_predict = cross_val_predict(knn_clf, \n",
    "                                        X_train, \n",
    "                                        y_train_multilable, \n",
    "                                        cv=3, \n",
    "                                        n_jobs=-1)\n",
    "f1_score(y_train_multilable,\n",
    "         y_train_knn_predict, \n",
    "         average=\"macro\")  # \"macro\": assume all labels are equally important\n",
    "                           # \"weighted\": given a weight for each lable\n",
    "\n",
    "end_time = datetime.datetime.now()\n",
    "print('end_time = ', end_time)\n",
    "print('Time to run = ', end_time-start_time)"
   ]
  },
  {
   "cell_type": "code",
   "execution_count": 79,
   "metadata": {},
   "outputs": [
    {
     "data": {
      "text/plain": [
       "datetime.datetime(2019, 8, 11, 22, 11, 21, 641047)"
      ]
     },
     "execution_count": 79,
     "metadata": {},
     "output_type": "execute_result"
    }
   ],
   "source": [
    "start_time"
   ]
  },
  {
   "cell_type": "markdown",
   "metadata": {},
   "source": [
    "## PART 5: Multioutput Classification"
   ]
  },
  {
   "cell_type": "raw",
   "metadata": {},
   "source": [
    "Multioutput Classification (a.k.s Multioutput Multiclass Classification): \n",
    "It is a multiclass classification in which each label can be multiclass \n",
    "(meaning that it can have more than 2 possible values)"
   ]
  },
  {
   "cell_type": "code",
   "execution_count": 82,
   "metadata": {},
   "outputs": [],
   "source": [
    "# For illustration, adding some noise to data\n",
    "noise = np.random.randint(0, 100, (len(X_train), 784))\n",
    "X_train_modified = X_train + noise\n",
    "noise = np.random.randint(0, 100, (len(X_test), 784))\n",
    "X_test_modified = X_test + noise\n",
    "y_train_modified = X_train\n",
    "y_test_modified = X_test"
   ]
  },
  {
   "cell_type": "code",
   "execution_count": 91,
   "metadata": {},
   "outputs": [],
   "source": [
    "test_at_index = 5000\n",
    "knn_clf.fit(X_train_modified, \n",
    "            y_train_modified)\n",
    "clean_digit = knn_clf.predict([X_test_modified[test_at_index]])"
   ]
  },
  {
   "cell_type": "code",
   "execution_count": 92,
   "metadata": {},
   "outputs": [
    {
     "data": {
      "image/png": "[encoded data removed]",
      "text/plain": [
       "<Figure size 432x288 with 3 Axes>"
      ]
     },
     "metadata": {},
     "output_type": "display_data"
    }
   ],
   "source": [
    "plt.subplot(221);\n",
    "plot_a_digit(a_digit_data=X_train_modified[test_at_index])\n",
    "plt.subplot(222);\n",
    "plot_a_digit(a_digit_data=y_test_modified[test_at_index])\n",
    "plt.subplot(223)\n",
    "plot_a_digit(a_digit_data=clean_digit)\n",
    "plt.show()"
   ]
  },
  {
   "cell_type": "code",
   "execution_count": null,
   "metadata": {},
   "outputs": [],
   "source": []
  }
 ],
 "metadata": {
  "kernelspec": {
   "display_name": "Python 3",
   "language": "python",
   "name": "python3"
  },
  "language_info": {
   "codemirror_mode": {
    "name": "ipython",
    "version": 3
   },
   "file_extension": ".py",
   "mimetype": "text/x-python",
   "name": "python",
   "nbconvert_exporter": "python",
   "pygments_lexer": "ipython3",
   "version": "3.6.5"
  }
 },
 "nbformat": 4,
 "nbformat_minor": 2
}
